{
 "cells": [
  {
   "cell_type": "markdown",
   "metadata": {},
   "source": [
    "# Homework 05\n",
    "\n",
    "1.  <img src=\"simpwalks2s.png\" align=\"right\" width=\"40%\"/>se the constraint Jacobian to implement the step-to-step transition for the simplest walking model. The\n",
    "    file `testsimpwalk2s2s` provides most of the code needed, but requires a few lines of code in `s2ssimpwalk2Jc`. Note that the step-to-step transition is computed at the end of the step, when q1 refers to the trailing leg (stance leg just before impact), and q2 refers to the leading leg (swing leg before impact, but new stance leg). <br/><br/>\n",
    "    The effect of the collision is to change the velocities from $\\mathbf{V^-}$ before impact to $\\mathbf{V^+}$ after impact, through the equation\n",
    "$$\\begin{bmatrix}\n",
    "\\mathbf{M} & J_c^T \\\\\n",
    "J_c & 0 \\\\\n",
    "\\end{bmatrix} \\cdot \\begin{bmatrix}\n",
    "\\mathbf{V^+} \\\\\n",
    "-\\hat{\\lambda} \\\\\n",
    "\\end{bmatrix} = \\begin{bmatrix}\n",
    "\\mathbf{M}\\cdot \\mathbf{V^-} \\\\\n",
    "0 \\\\\n",
    "\\end{bmatrix}\n",
    "$$\n",
    "where $J_c$ is the constraint Jacobian for the system after impact. After this, the leading leg becomes the new stance leg, and the trailing leg the new swing leg, to yield the initial conditions for the next step.\n",
    "  1.  Add the constraint Jacobian equations, and run the test code `testsimpwalk2s2s`.\n",
    "  2.  Notice that the state-derivative function also computes the constraint (ground) reaction forces, in `fsimpwalk2Jc`. Briefly explain how the constraint Jacobian can yield ground reaction forces, and explain the meaning of the other constraint forces acting on the swing leg (and pelvis).\n",
    "  3.  Briefly explain how your constraint Jacobian step-to-step transition also yields ground reaction impulses.<br/><br/>\n",
    "  \n",
    "2.  The collision equations for the simplest walking model are remarkably simple. For the leading leg ($\\theta_2$ above), $\\dot{\\theta}_\\mathrm{LL}^+ = \\dot{\\theta}_\\mathrm{LL}^- \\cos{2\\alpha}$, where $\\alpha$ refers to the half-angle between the legs. Next we will derive the step-to-step transition's effect on the trailing leg, $\\dot{\\theta}_\\mathrm{TL}^+ = \\dot{\\theta}_\\mathrm{LL}^- \\cos^2{2\\alpha}$. This may be demonstrated by conservation of angular momentum of the trailing leg about the pelvis.\n",
    "  1.  In general, a rigid body's angular momentum $H_P$ about a point $P$ is $H_P = I \\omega + r_{C/P} \\times m v_C$, where $I$ is the moment of inertia about body's center of mass, $r_{C/P}$ is the position vector of the center of mass with respect to $P$, $m$ is body mass, and $v_C$ is the velocity of the center of mass. Show that $H_O^- = 0$ (angular momentum of the trailing leg about the pelvis). Note that the leg is massless except for the foot $O$.\n",
    "  2.  Show that the angular momentum after impact is $H_O^+ = mL^2(\\dot{\\theta}^+_\\mathrm{TL} - \\dot{\\theta}^+_\\mathrm{LL} \\cos{2\\alpha})$. Next, solve for $\\dot{\\theta}^+_\\mathrm{TL}$.<br/><br/>\n",
    "  \n",
    "3.\tThe file `runkickt` simulates a quadriceps performing a maximal effort kick from the knee, including muscle excitation and contraction dynamics with tendon. It perform a series of simulations with the tendon varying in length up to ten times muscle optimal fiber length. (A typical value is 3 for knee muscles.) It also compares these to the previous model that has no tendon. In all cases, the simulation starts with the muscle fibers at optimal fiber length.\n",
    "\n",
    "  1.\tThe simulation makes use of several different normalized curves. Plot these functions, including (i) muscle force-length (active, passive, and active + passive), (ii) force-velocity (and its inverse, plotted on the same axes), (iii) tendon stress-strain.\n",
    "  2.\tExamine the simulation results, and comment on how the length of the tendon affects the peak leg angular velocity and both the time course and shape of force production. Comment on the effect of tendon on a maximum effort kick. Is it advantageous to have a tendon, and how much tendon is best?\n",
    "  3.\tExamine the program, and write out the state-derivative equations (not including activation $a$) in terms of the normalized curves of part (a.). Explain these equations briefly."
   ]
  }
 ],
 "metadata": {
  "kernelspec": {
   "display_name": "MATLAB",
   "language": "matlab",
   "name": "imatlab"
  },
  "language_info": {
   "codemirror_mode": "octave",
   "file_extension": ".m",
   "mimetype": "text/x-matlab",
   "name": "matlab",
   "nbconvert_exporter": "imatlab._exporter.MatlabExporter",
   "pygments_lexer": "matlab",
   "version": "9.4.0.813654 (R2018a)"
  }
 },
 "nbformat": 4,
 "nbformat_minor": 2
}
